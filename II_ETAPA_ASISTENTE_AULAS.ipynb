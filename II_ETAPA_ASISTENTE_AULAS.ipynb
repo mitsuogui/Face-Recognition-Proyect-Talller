{
  "nbformat": 4,
  "nbformat_minor": 0,
  "metadata": {
    "colab": {
      "provenance": [],
      "gpuType": "T4",
      "collapsed_sections": [
        "B5OJ4YBgG0Au",
        "gfHhNf24OSyA",
        "GqWb4EMNOeM5",
        "FSVgRWCNggH6",
        "7CmIqv7_LPh_",
        "2Se9y9PNL0qg"
      ],
      "toc_visible": true,
      "include_colab_link": true
    },
    "kernelspec": {
      "name": "python3",
      "display_name": "Python 3"
    },
    "language_info": {
      "name": "python"
    },
    "accelerator": "GPU",
    "widgets": {
      "application/vnd.jupyter.widget-state+json": {
        "3cf407d0dd624db68c02231bb7ef606d": {
          "model_module": "@jupyter-widgets/controls",
          "model_name": "VBoxModel",
          "model_module_version": "1.5.0",
          "state": {
            "_dom_classes": [],
            "_model_module": "@jupyter-widgets/controls",
            "_model_module_version": "1.5.0",
            "_model_name": "VBoxModel",
            "_view_count": null,
            "_view_module": "@jupyter-widgets/controls",
            "_view_module_version": "1.5.0",
            "_view_name": "VBoxView",
            "box_style": "",
            "children": [
              "IPY_MODEL_1634d025284243d7bb0d1379237ec7af",
              "IPY_MODEL_a99bb61e34954c30b45a95a966fa738e",
              "IPY_MODEL_c18b54310212443188139fc3fa734cb3",
              "IPY_MODEL_0c84407fc8aa42f2a39daf3158d9c795"
            ],
            "layout": "IPY_MODEL_b6686674b0cd4865b79ab7c116b6de4e"
          }
        },
        "1634d025284243d7bb0d1379237ec7af": {
          "model_module": "@jupyter-widgets/controls",
          "model_name": "TextModel",
          "model_module_version": "1.5.0",
          "state": {
            "_dom_classes": [],
            "_model_module": "@jupyter-widgets/controls",
            "_model_module_version": "1.5.0",
            "_model_name": "TextModel",
            "_view_count": null,
            "_view_module": "@jupyter-widgets/controls",
            "_view_module_version": "1.5.0",
            "_view_name": "TextView",
            "continuous_update": true,
            "description": "Name:",
            "description_tooltip": null,
            "disabled": false,
            "layout": "IPY_MODEL_e3c12804991f40aa9b478b42de4af6b6",
            "placeholder": "Enter your name",
            "style": "IPY_MODEL_8ed863a527bc419dacc51eea99dc9682",
            "value": "Tony"
          }
        },
        "a99bb61e34954c30b45a95a966fa738e": {
          "model_module": "@jupyter-widgets/controls",
          "model_name": "HBoxModel",
          "model_module_version": "1.5.0",
          "state": {
            "_dom_classes": [],
            "_model_module": "@jupyter-widgets/controls",
            "_model_module_version": "1.5.0",
            "_model_name": "HBoxModel",
            "_view_count": null,
            "_view_module": "@jupyter-widgets/controls",
            "_view_module_version": "1.5.0",
            "_view_name": "HBoxView",
            "box_style": "",
            "children": [
              "IPY_MODEL_e430a73ec97b412ca04c10f166af1061",
              "IPY_MODEL_1cf5428daa234124b06ed171f77ec416",
              "IPY_MODEL_9269ab32c9214f619d596055114f7190"
            ],
            "layout": "IPY_MODEL_d58103538980467692c36f0da25a4caa"
          }
        },
        "c18b54310212443188139fc3fa734cb3": {
          "model_module": "@jupyter-widgets/controls",
          "model_name": "ButtonModel",
          "model_module_version": "1.5.0",
          "state": {
            "_dom_classes": [],
            "_model_module": "@jupyter-widgets/controls",
            "_model_module_version": "1.5.0",
            "_model_name": "ButtonModel",
            "_view_count": null,
            "_view_module": "@jupyter-widgets/controls",
            "_view_module_version": "1.5.0",
            "_view_name": "ButtonView",
            "button_style": "",
            "description": "Register Face",
            "disabled": false,
            "icon": "",
            "layout": "IPY_MODEL_dc95ddae86e045e9913dca77581f439d",
            "style": "IPY_MODEL_1933a69028d54a2bb9f02ac35eba513c",
            "tooltip": ""
          }
        },
        "0c84407fc8aa42f2a39daf3158d9c795": {
          "model_module": "@jupyter-widgets/output",
          "model_name": "OutputModel",
          "model_module_version": "1.0.0",
          "state": {
            "_dom_classes": [],
            "_model_module": "@jupyter-widgets/output",
            "_model_module_version": "1.0.0",
            "_model_name": "OutputModel",
            "_view_count": null,
            "_view_module": "@jupyter-widgets/output",
            "_view_module_version": "1.0.0",
            "_view_name": "OutputView",
            "layout": "IPY_MODEL_6a4b50d6866c4b0fb67c931b9c8d7d07",
            "msg_id": "",
            "outputs": [
              {
                "output_type": "stream",
                "name": "stdout",
                "text": [
                  "Face already registered!\n"
                ]
              }
            ]
          }
        },
        "b6686674b0cd4865b79ab7c116b6de4e": {
          "model_module": "@jupyter-widgets/base",
          "model_name": "LayoutModel",
          "model_module_version": "1.2.0",
          "state": {
            "_model_module": "@jupyter-widgets/base",
            "_model_module_version": "1.2.0",
            "_model_name": "LayoutModel",
            "_view_count": null,
            "_view_module": "@jupyter-widgets/base",
            "_view_module_version": "1.2.0",
            "_view_name": "LayoutView",
            "align_content": null,
            "align_items": null,
            "align_self": null,
            "border": null,
            "bottom": null,
            "display": null,
            "flex": null,
            "flex_flow": null,
            "grid_area": null,
            "grid_auto_columns": null,
            "grid_auto_flow": null,
            "grid_auto_rows": null,
            "grid_column": null,
            "grid_gap": null,
            "grid_row": null,
            "grid_template_areas": null,
            "grid_template_columns": null,
            "grid_template_rows": null,
            "height": null,
            "justify_content": null,
            "justify_items": null,
            "left": null,
            "margin": null,
            "max_height": null,
            "max_width": null,
            "min_height": null,
            "min_width": null,
            "object_fit": null,
            "object_position": null,
            "order": null,
            "overflow": null,
            "overflow_x": null,
            "overflow_y": null,
            "padding": null,
            "right": null,
            "top": null,
            "visibility": null,
            "width": null
          }
        },
        "e3c12804991f40aa9b478b42de4af6b6": {
          "model_module": "@jupyter-widgets/base",
          "model_name": "LayoutModel",
          "model_module_version": "1.2.0",
          "state": {
            "_model_module": "@jupyter-widgets/base",
            "_model_module_version": "1.2.0",
            "_model_name": "LayoutModel",
            "_view_count": null,
            "_view_module": "@jupyter-widgets/base",
            "_view_module_version": "1.2.0",
            "_view_name": "LayoutView",
            "align_content": null,
            "align_items": null,
            "align_self": null,
            "border": null,
            "bottom": null,
            "display": null,
            "flex": null,
            "flex_flow": null,
            "grid_area": null,
            "grid_auto_columns": null,
            "grid_auto_flow": null,
            "grid_auto_rows": null,
            "grid_column": null,
            "grid_gap": null,
            "grid_row": null,
            "grid_template_areas": null,
            "grid_template_columns": null,
            "grid_template_rows": null,
            "height": null,
            "justify_content": null,
            "justify_items": null,
            "left": null,
            "margin": null,
            "max_height": null,
            "max_width": null,
            "min_height": null,
            "min_width": null,
            "object_fit": null,
            "object_position": null,
            "order": null,
            "overflow": null,
            "overflow_x": null,
            "overflow_y": null,
            "padding": null,
            "right": null,
            "top": null,
            "visibility": null,
            "width": null
          }
        },
        "8ed863a527bc419dacc51eea99dc9682": {
          "model_module": "@jupyter-widgets/controls",
          "model_name": "DescriptionStyleModel",
          "model_module_version": "1.5.0",
          "state": {
            "_model_module": "@jupyter-widgets/controls",
            "_model_module_version": "1.5.0",
            "_model_name": "DescriptionStyleModel",
            "_view_count": null,
            "_view_module": "@jupyter-widgets/base",
            "_view_module_version": "1.2.0",
            "_view_name": "StyleView",
            "description_width": ""
          }
        },
        "e430a73ec97b412ca04c10f166af1061": {
          "model_module": "@jupyter-widgets/controls",
          "model_name": "FileUploadModel",
          "model_module_version": "1.5.0",
          "state": {
            "_counter": 1,
            "_dom_classes": [],
            "_model_module": "@jupyter-widgets/controls",
            "_model_module_version": "1.5.0",
            "_model_name": "FileUploadModel",
            "_view_count": null,
            "_view_module": "@jupyter-widgets/controls",
            "_view_module_version": "1.5.0",
            "_view_name": "FileUploadView",
            "accept": "image/*",
            "button_style": "",
            "data": [
              null
            ],
            "description": "Upload Image",
            "description_tooltip": null,
            "disabled": false,
            "error": "",
            "icon": "upload",
            "layout": "IPY_MODEL_018313f1659845bab047ac77e38489e5",
            "metadata": [
              {
                "name": "TonyS.jpg",
                "type": "image/jpeg",
                "size": 51582,
                "lastModified": 1696901292864
              }
            ],
            "multiple": false,
            "style": "IPY_MODEL_cccab43307174e859bcd301e85d0fa06"
          }
        },
        "1cf5428daa234124b06ed171f77ec416": {
          "model_module": "@jupyter-widgets/controls",
          "model_name": "HTMLModel",
          "model_module_version": "1.5.0",
          "state": {
            "_dom_classes": [],
            "_model_module": "@jupyter-widgets/controls",
            "_model_module_version": "1.5.0",
            "_model_name": "HTMLModel",
            "_view_count": null,
            "_view_module": "@jupyter-widgets/controls",
            "_view_module_version": "1.5.0",
            "_view_name": "HTMLView",
            "description": "",
            "description_tooltip": null,
            "layout": "IPY_MODEL_c7ad421802514087a860191ae56826ff",
            "placeholder": "​",
            "style": "IPY_MODEL_0e65853a88f1421db7c5b144ab1339be",
            "value": " or "
          }
        },
        "9269ab32c9214f619d596055114f7190": {
          "model_module": "@jupyter-widgets/controls",
          "model_name": "ButtonModel",
          "model_module_version": "1.5.0",
          "state": {
            "_dom_classes": [],
            "_model_module": "@jupyter-widgets/controls",
            "_model_module_version": "1.5.0",
            "_model_name": "ButtonModel",
            "_view_count": null,
            "_view_module": "@jupyter-widgets/controls",
            "_view_module_version": "1.5.0",
            "_view_name": "ButtonView",
            "button_style": "",
            "description": "Capture Image",
            "disabled": false,
            "icon": "",
            "layout": "IPY_MODEL_52b08cdd270c46369317bea10dc3db03",
            "style": "IPY_MODEL_c96013ccac6e4ce09e9f096b38559b45",
            "tooltip": ""
          }
        },
        "d58103538980467692c36f0da25a4caa": {
          "model_module": "@jupyter-widgets/base",
          "model_name": "LayoutModel",
          "model_module_version": "1.2.0",
          "state": {
            "_model_module": "@jupyter-widgets/base",
            "_model_module_version": "1.2.0",
            "_model_name": "LayoutModel",
            "_view_count": null,
            "_view_module": "@jupyter-widgets/base",
            "_view_module_version": "1.2.0",
            "_view_name": "LayoutView",
            "align_content": null,
            "align_items": null,
            "align_self": null,
            "border": null,
            "bottom": null,
            "display": null,
            "flex": null,
            "flex_flow": null,
            "grid_area": null,
            "grid_auto_columns": null,
            "grid_auto_flow": null,
            "grid_auto_rows": null,
            "grid_column": null,
            "grid_gap": null,
            "grid_row": null,
            "grid_template_areas": null,
            "grid_template_columns": null,
            "grid_template_rows": null,
            "height": null,
            "justify_content": null,
            "justify_items": null,
            "left": null,
            "margin": null,
            "max_height": null,
            "max_width": null,
            "min_height": null,
            "min_width": null,
            "object_fit": null,
            "object_position": null,
            "order": null,
            "overflow": null,
            "overflow_x": null,
            "overflow_y": null,
            "padding": null,
            "right": null,
            "top": null,
            "visibility": null,
            "width": null
          }
        },
        "dc95ddae86e045e9913dca77581f439d": {
          "model_module": "@jupyter-widgets/base",
          "model_name": "LayoutModel",
          "model_module_version": "1.2.0",
          "state": {
            "_model_module": "@jupyter-widgets/base",
            "_model_module_version": "1.2.0",
            "_model_name": "LayoutModel",
            "_view_count": null,
            "_view_module": "@jupyter-widgets/base",
            "_view_module_version": "1.2.0",
            "_view_name": "LayoutView",
            "align_content": null,
            "align_items": null,
            "align_self": null,
            "border": null,
            "bottom": null,
            "display": null,
            "flex": null,
            "flex_flow": null,
            "grid_area": null,
            "grid_auto_columns": null,
            "grid_auto_flow": null,
            "grid_auto_rows": null,
            "grid_column": null,
            "grid_gap": null,
            "grid_row": null,
            "grid_template_areas": null,
            "grid_template_columns": null,
            "grid_template_rows": null,
            "height": null,
            "justify_content": null,
            "justify_items": null,
            "left": null,
            "margin": null,
            "max_height": null,
            "max_width": null,
            "min_height": null,
            "min_width": null,
            "object_fit": null,
            "object_position": null,
            "order": null,
            "overflow": null,
            "overflow_x": null,
            "overflow_y": null,
            "padding": null,
            "right": null,
            "top": null,
            "visibility": null,
            "width": null
          }
        },
        "1933a69028d54a2bb9f02ac35eba513c": {
          "model_module": "@jupyter-widgets/controls",
          "model_name": "ButtonStyleModel",
          "model_module_version": "1.5.0",
          "state": {
            "_model_module": "@jupyter-widgets/controls",
            "_model_module_version": "1.5.0",
            "_model_name": "ButtonStyleModel",
            "_view_count": null,
            "_view_module": "@jupyter-widgets/base",
            "_view_module_version": "1.2.0",
            "_view_name": "StyleView",
            "button_color": null,
            "font_weight": ""
          }
        },
        "018313f1659845bab047ac77e38489e5": {
          "model_module": "@jupyter-widgets/base",
          "model_name": "LayoutModel",
          "model_module_version": "1.2.0",
          "state": {
            "_model_module": "@jupyter-widgets/base",
            "_model_module_version": "1.2.0",
            "_model_name": "LayoutModel",
            "_view_count": null,
            "_view_module": "@jupyter-widgets/base",
            "_view_module_version": "1.2.0",
            "_view_name": "LayoutView",
            "align_content": null,
            "align_items": null,
            "align_self": null,
            "border": null,
            "bottom": null,
            "display": null,
            "flex": null,
            "flex_flow": null,
            "grid_area": null,
            "grid_auto_columns": null,
            "grid_auto_flow": null,
            "grid_auto_rows": null,
            "grid_column": null,
            "grid_gap": null,
            "grid_row": null,
            "grid_template_areas": null,
            "grid_template_columns": null,
            "grid_template_rows": null,
            "height": null,
            "justify_content": null,
            "justify_items": null,
            "left": null,
            "margin": null,
            "max_height": null,
            "max_width": null,
            "min_height": null,
            "min_width": null,
            "object_fit": null,
            "object_position": null,
            "order": null,
            "overflow": null,
            "overflow_x": null,
            "overflow_y": null,
            "padding": null,
            "right": null,
            "top": null,
            "visibility": null,
            "width": null
          }
        },
        "cccab43307174e859bcd301e85d0fa06": {
          "model_module": "@jupyter-widgets/controls",
          "model_name": "ButtonStyleModel",
          "model_module_version": "1.5.0",
          "state": {
            "_model_module": "@jupyter-widgets/controls",
            "_model_module_version": "1.5.0",
            "_model_name": "ButtonStyleModel",
            "_view_count": null,
            "_view_module": "@jupyter-widgets/base",
            "_view_module_version": "1.2.0",
            "_view_name": "StyleView",
            "button_color": null,
            "font_weight": ""
          }
        },
        "c7ad421802514087a860191ae56826ff": {
          "model_module": "@jupyter-widgets/base",
          "model_name": "LayoutModel",
          "model_module_version": "1.2.0",
          "state": {
            "_model_module": "@jupyter-widgets/base",
            "_model_module_version": "1.2.0",
            "_model_name": "LayoutModel",
            "_view_count": null,
            "_view_module": "@jupyter-widgets/base",
            "_view_module_version": "1.2.0",
            "_view_name": "LayoutView",
            "align_content": null,
            "align_items": null,
            "align_self": null,
            "border": null,
            "bottom": null,
            "display": null,
            "flex": null,
            "flex_flow": null,
            "grid_area": null,
            "grid_auto_columns": null,
            "grid_auto_flow": null,
            "grid_auto_rows": null,
            "grid_column": null,
            "grid_gap": null,
            "grid_row": null,
            "grid_template_areas": null,
            "grid_template_columns": null,
            "grid_template_rows": null,
            "height": null,
            "justify_content": null,
            "justify_items": null,
            "left": null,
            "margin": null,
            "max_height": null,
            "max_width": null,
            "min_height": null,
            "min_width": null,
            "object_fit": null,
            "object_position": null,
            "order": null,
            "overflow": null,
            "overflow_x": null,
            "overflow_y": null,
            "padding": null,
            "right": null,
            "top": null,
            "visibility": null,
            "width": null
          }
        },
        "0e65853a88f1421db7c5b144ab1339be": {
          "model_module": "@jupyter-widgets/controls",
          "model_name": "DescriptionStyleModel",
          "model_module_version": "1.5.0",
          "state": {
            "_model_module": "@jupyter-widgets/controls",
            "_model_module_version": "1.5.0",
            "_model_name": "DescriptionStyleModel",
            "_view_count": null,
            "_view_module": "@jupyter-widgets/base",
            "_view_module_version": "1.2.0",
            "_view_name": "StyleView",
            "description_width": ""
          }
        },
        "52b08cdd270c46369317bea10dc3db03": {
          "model_module": "@jupyter-widgets/base",
          "model_name": "LayoutModel",
          "model_module_version": "1.2.0",
          "state": {
            "_model_module": "@jupyter-widgets/base",
            "_model_module_version": "1.2.0",
            "_model_name": "LayoutModel",
            "_view_count": null,
            "_view_module": "@jupyter-widgets/base",
            "_view_module_version": "1.2.0",
            "_view_name": "LayoutView",
            "align_content": null,
            "align_items": null,
            "align_self": null,
            "border": null,
            "bottom": null,
            "display": null,
            "flex": null,
            "flex_flow": null,
            "grid_area": null,
            "grid_auto_columns": null,
            "grid_auto_flow": null,
            "grid_auto_rows": null,
            "grid_column": null,
            "grid_gap": null,
            "grid_row": null,
            "grid_template_areas": null,
            "grid_template_columns": null,
            "grid_template_rows": null,
            "height": null,
            "justify_content": null,
            "justify_items": null,
            "left": null,
            "margin": null,
            "max_height": null,
            "max_width": null,
            "min_height": null,
            "min_width": null,
            "object_fit": null,
            "object_position": null,
            "order": null,
            "overflow": null,
            "overflow_x": null,
            "overflow_y": null,
            "padding": null,
            "right": null,
            "top": null,
            "visibility": null,
            "width": null
          }
        },
        "c96013ccac6e4ce09e9f096b38559b45": {
          "model_module": "@jupyter-widgets/controls",
          "model_name": "ButtonStyleModel",
          "model_module_version": "1.5.0",
          "state": {
            "_model_module": "@jupyter-widgets/controls",
            "_model_module_version": "1.5.0",
            "_model_name": "ButtonStyleModel",
            "_view_count": null,
            "_view_module": "@jupyter-widgets/base",
            "_view_module_version": "1.2.0",
            "_view_name": "StyleView",
            "button_color": null,
            "font_weight": ""
          }
        },
        "6a4b50d6866c4b0fb67c931b9c8d7d07": {
          "model_module": "@jupyter-widgets/base",
          "model_name": "LayoutModel",
          "model_module_version": "1.2.0",
          "state": {
            "_model_module": "@jupyter-widgets/base",
            "_model_module_version": "1.2.0",
            "_model_name": "LayoutModel",
            "_view_count": null,
            "_view_module": "@jupyter-widgets/base",
            "_view_module_version": "1.2.0",
            "_view_name": "LayoutView",
            "align_content": null,
            "align_items": null,
            "align_self": null,
            "border": null,
            "bottom": null,
            "display": null,
            "flex": null,
            "flex_flow": null,
            "grid_area": null,
            "grid_auto_columns": null,
            "grid_auto_flow": null,
            "grid_auto_rows": null,
            "grid_column": null,
            "grid_gap": null,
            "grid_row": null,
            "grid_template_areas": null,
            "grid_template_columns": null,
            "grid_template_rows": null,
            "height": null,
            "justify_content": null,
            "justify_items": null,
            "left": null,
            "margin": null,
            "max_height": null,
            "max_width": null,
            "min_height": null,
            "min_width": null,
            "object_fit": null,
            "object_position": null,
            "order": null,
            "overflow": null,
            "overflow_x": null,
            "overflow_y": null,
            "padding": null,
            "right": null,
            "top": null,
            "visibility": null,
            "width": null
          }
        },
        "e903a2797f924cef83662e687b77d6ba": {
          "model_module": "@jupyter-widgets/controls",
          "model_name": "ImageModel",
          "model_module_version": "1.5.0",
          "state": {
            "_dom_classes": [],
            "_model_module": "@jupyter-widgets/controls",
            "_model_module_version": "1.5.0",
            "_model_name": "ImageModel",
            "_view_count": null,
            "_view_module": "@jupyter-widgets/controls",
            "_view_module_version": "1.5.0",
            "_view_name": "ImageView",
            "format": "png",
            "height": "",
            "layout": "IPY_MODEL_7c09c8d7f1714a3b8a0340f3d5bdffcf",
            "width": ""
          }
        },
        "7c09c8d7f1714a3b8a0340f3d5bdffcf": {
          "model_module": "@jupyter-widgets/base",
          "model_name": "LayoutModel",
          "model_module_version": "1.2.0",
          "state": {
            "_model_module": "@jupyter-widgets/base",
            "_model_module_version": "1.2.0",
            "_model_name": "LayoutModel",
            "_view_count": null,
            "_view_module": "@jupyter-widgets/base",
            "_view_module_version": "1.2.0",
            "_view_name": "LayoutView",
            "align_content": null,
            "align_items": null,
            "align_self": null,
            "border": null,
            "bottom": null,
            "display": null,
            "flex": null,
            "flex_flow": null,
            "grid_area": null,
            "grid_auto_columns": null,
            "grid_auto_flow": null,
            "grid_auto_rows": null,
            "grid_column": null,
            "grid_gap": null,
            "grid_row": null,
            "grid_template_areas": null,
            "grid_template_columns": null,
            "grid_template_rows": null,
            "height": null,
            "justify_content": null,
            "justify_items": null,
            "left": null,
            "margin": null,
            "max_height": null,
            "max_width": null,
            "min_height": null,
            "min_width": null,
            "object_fit": null,
            "object_position": null,
            "order": null,
            "overflow": null,
            "overflow_x": null,
            "overflow_y": null,
            "padding": null,
            "right": null,
            "top": null,
            "visibility": null,
            "width": null
          }
        }
      }
    }
  },
  "cells": [
    {
      "cell_type": "markdown",
      "metadata": {
        "id": "view-in-github",
        "colab_type": "text"
      },
      "source": [
        "<a href=\"https://colab.research.google.com/github/mitsuogui/Face-Recognition-Proyect-Talller/blob/main/II_ETAPA_ASISTENTE_AULAS.ipynb\" target=\"_parent\"><img src=\"https://colab.research.google.com/assets/colab-badge.svg\" alt=\"Open In Colab\"/></a>"
      ]
    },
    {
      "cell_type": "markdown",
      "source": [
        "# Instituto Tecnológico de Costa Rica\n",
        "### Reconocimiento de Rostros\n",
        "Author: [Johan Rodríguez](https://github.com/Johanx22x)"
      ],
      "metadata": {
        "id": "88LMBqzZGg9F"
      }
    },
    {
      "cell_type": "markdown",
      "source": [
        "Note: When using this notebook, you must select a GPU Hardware Accelerator instead of CPU. Go to Runtime->Change Runtime Type and select any option that uses GPU."
      ],
      "metadata": {
        "id": "ypBO09vxI_QD"
      }
    },
    {
      "cell_type": "markdown",
      "source": [
        "# Dependencies"
      ],
      "metadata": {
        "id": "B5OJ4YBgG0Au"
      }
    },
    {
      "cell_type": "code",
      "execution_count": null,
      "metadata": {
        "id": "UZVRZspkGczq",
        "colab": {
          "base_uri": "https://localhost:8080/"
        },
        "outputId": "d4974830-35c8-4223-b4a2-03ad1e856913"
      },
      "outputs": [
        {
          "output_type": "stream",
          "name": "stdout",
          "text": [
            "Requirement already satisfied: face_recognition in /usr/local/lib/python3.10/dist-packages (1.3.0)\n",
            "Requirement already satisfied: face-recognition-models>=0.3.0 in /usr/local/lib/python3.10/dist-packages (from face_recognition) (0.3.0)\n",
            "Requirement already satisfied: Click>=6.0 in /usr/local/lib/python3.10/dist-packages (from face_recognition) (8.1.7)\n",
            "Requirement already satisfied: dlib>=19.7 in /usr/local/lib/python3.10/dist-packages (from face_recognition) (19.24.2)\n",
            "Requirement already satisfied: numpy in /usr/local/lib/python3.10/dist-packages (from face_recognition) (1.23.5)\n",
            "Requirement already satisfied: Pillow in /usr/local/lib/python3.10/dist-packages (from face_recognition) (9.4.0)\n"
          ]
        }
      ],
      "source": [
        "import pickle #para guardar archivos\n",
        "\n",
        "import os  #para guardar y manejar carpetas automatico\n",
        "\n",
        "\n",
        "!pip install face_recognition         # Install face_recognition package using pip\n",
        "import face_recognition\n",
        "import cv2                            # Import OpenCV\n",
        "import numpy as np\n",
        "from matplotlib import pyplot as plt  # pyplot\n",
        "\n",
        "# ipywidgets packages\n",
        "import ipywidgets as widgets\n",
        "from IPython.display import display, clear_output\n",
        "\n",
        "# Live Streaming dependencies\n",
        "from IPython.display import Javascript, Image\n",
        "from google.colab.output import eval_js\n",
        "from base64 import b64decode, b64encode\n",
        "import PIL\n",
        "import io\n",
        "import html\n",
        "import time\n",
        "\n",
        "import pickle"
      ]
    },
    {
      "cell_type": "markdown",
      "source": [
        "# Utils"
      ],
      "metadata": {
        "id": "teKbYoUDLJQ5"
      }
    },
    {
      "cell_type": "markdown",
      "source": [
        "## Montar carpetas google"
      ],
      "metadata": {
        "id": "EWcbNWRYJ5Xs"
      }
    },
    {
      "cell_type": "code",
      "source": [
        "from google.colab import drive\n",
        "drive.mount('/content/drive')"
      ],
      "metadata": {
        "colab": {
          "base_uri": "https://localhost:8080/"
        },
        "id": "fQXQp-nDJ8Ci",
        "outputId": "cfdc3c42-87b8-4079-b4de-7509b6749a7a"
      },
      "execution_count": null,
      "outputs": [
        {
          "output_type": "stream",
          "name": "stdout",
          "text": [
            "Mounted at /content/drive\n"
          ]
        }
      ]
    },
    {
      "cell_type": "code",
      "source": [
        "import os\n",
        "\n",
        "# Nombre de la carpeta que deseas crear\n",
        "carpeta_nombre = \"II E Asistente Aula\"\n",
        "\n",
        "# Ruta completa en tu Google Drive\n",
        "carpeta_ruta = '/content/drive/My Drive/' + carpeta_nombre\n",
        "\n",
        "# Comprueba si la carpeta ya existe, y si no, créala\n",
        "if not os.path.exists(carpeta_ruta):\n",
        "    os.mkdir(carpeta_ruta)\n",
        "    print(f'Se ha creado la carpeta: {carpeta_nombre}')\n",
        "else:\n",
        "    print(f'La carpeta {carpeta_nombre} ya existe en tu Google Drive.')\n",
        "\n",
        "# Nombre del archivo binario que deseas guardar\n",
        "archivo_nombre = \"mi_archivo.bin\"\n",
        "\n",
        "# Ruta completa del archivo binario\n",
        "archivo_ruta = os.path.join(carpeta_ruta, archivo_nombre)\n",
        "\n",
        "# Datos binarios con caracteres no ASCII (en este caso, caracteres en español)\n",
        "datos_binarios = 'Tus datos binarios aquí con caracteres no ASCII: áéíóú'.encode('utf-8')\n",
        "\n",
        "# Puedes abrir y escribir en el archivo binario\n",
        "with open(archivo_ruta, \"wb\") as archivo_binario:\n",
        "    archivo_binario.write(datos_binarios)\n",
        "\n",
        "print(f'Se ha creado y guardado el archivo binario en: {archivo_ruta}')\n",
        "\n"
      ],
      "metadata": {
        "colab": {
          "base_uri": "https://localhost:8080/"
        },
        "id": "KMu0DUeMKkhj",
        "outputId": "75b3d002-d980-47e3-f722-19d105109adf"
      },
      "execution_count": null,
      "outputs": [
        {
          "output_type": "stream",
          "name": "stdout",
          "text": [
            "Se ha creado la carpeta: II E Asistente Aula\n",
            "Se ha creado y guardado el archivo binario en: /content/drive/My Drive/II E Asistente Aula/mi_archivo.bin\n"
          ]
        }
      ]
    },
    {
      "cell_type": "markdown",
      "source": [
        "## In-memory data"
      ],
      "metadata": {
        "id": "gfHhNf24OSyA"
      }
    },
    {
      "cell_type": "code",
      "source": [
        "registered_faces = {}"
      ],
      "metadata": {
        "id": "pJrIHbn9OSdm"
      },
      "execution_count": null,
      "outputs": []
    },
    {
      "cell_type": "markdown",
      "source": [
        "## face recognition"
      ],
      "metadata": {
        "id": "GqWb4EMNOeM5"
      }
    },
    {
      "cell_type": "code",
      "source": [
        "def check_if_face_registered(face_encoding):\n",
        "  for _, registered_face in registered_faces.items():\n",
        "    if True in face_recognition.compare_faces([face_encoding], registered_face):\n",
        "      return True\n",
        "  return False"
      ],
      "metadata": {
        "id": "4ygm776HLVfm"
      },
      "execution_count": null,
      "outputs": []
    },
    {
      "cell_type": "markdown",
      "source": [
        "## Real time streaming"
      ],
      "metadata": {
        "id": "FSVgRWCNggH6"
      }
    },
    {
      "cell_type": "code",
      "source": [
        "# function to convert the JavaScript object into an OpenCV image\n",
        "def js_to_image(js_reply):\n",
        "  \"\"\"\n",
        "  Params:\n",
        "          js_reply: JavaScript object containing image from webcam\n",
        "  Returns:\n",
        "          img: OpenCV BGR image\n",
        "  \"\"\"\n",
        "  # decode base64 image\n",
        "  image_bytes = b64decode(js_reply.split(',')[1])\n",
        "  # convert bytes to numpy array\n",
        "  jpg_as_np = np.frombuffer(image_bytes, dtype=np.uint8)\n",
        "  # decode numpy array into OpenCV BGR image\n",
        "  img = cv2.imdecode(jpg_as_np, flags=1)\n",
        "\n",
        "  return img\n",
        "\n",
        "# function to convert OpenCV Rectangle bounding box image into base64 byte string to be overlayed on video stream\n",
        "def bbox_to_bytes(bbox_array):\n",
        "  \"\"\"\n",
        "  Params:\n",
        "          bbox_array: Numpy array (pixels) containing rectangle to overlay on video stream.\n",
        "  Returns:\n",
        "        bytes: Base64 image byte string\n",
        "  \"\"\"\n",
        "  # convert array into PIL image\n",
        "  bbox_PIL = PIL.Image.fromarray(bbox_array, 'RGBA')\n",
        "  iobuf = io.BytesIO()\n",
        "  # format bbox into png for return\n",
        "  bbox_PIL.save(iobuf, format='png')\n",
        "  # format return string\n",
        "  bbox_bytes = 'data:image/png;base64,{}'.format((str(b64encode(iobuf.getvalue()), 'utf-8')))\n",
        "\n",
        "  return bbox_bytes\n",
        "\n",
        "def video_frame(label, bbox):\n",
        "  data = eval_js('stream_frame(\"{}\", \"{}\")'.format(label, bbox))\n",
        "  return data\n",
        "\n",
        "# JavaScript to properly create our live video stream using our webcam as input\n",
        "def video_stream():\n",
        "  js = Javascript('''\n",
        "    var video;\n",
        "    var div = null;\n",
        "    var stream;\n",
        "    var captureCanvas;\n",
        "    var imgElement;\n",
        "    var labelElement;\n",
        "\n",
        "    var pendingResolve = null;\n",
        "    var shutdown = false;\n",
        "\n",
        "    function removeDom() {\n",
        "       stream.getVideoTracks()[0].stop();\n",
        "       video.remove();\n",
        "       div.remove();\n",
        "       video = null;\n",
        "       div = null;\n",
        "       stream = null;\n",
        "       imgElement = null;\n",
        "       captureCanvas = null;\n",
        "       labelElement = null;\n",
        "    }\n",
        "\n",
        "    function onAnimationFrame() {\n",
        "      if (!shutdown) {\n",
        "        window.requestAnimationFrame(onAnimationFrame);\n",
        "      }\n",
        "      if (pendingResolve) {\n",
        "        var result = \"\";\n",
        "        if (!shutdown) {\n",
        "          captureCanvas.getContext('2d').drawImage(video, 0, 0, 800, 600);\n",
        "          result = captureCanvas.toDataURL('image/jpeg', 0.8)\n",
        "        }\n",
        "        var lp = pendingResolve;\n",
        "        pendingResolve = null;\n",
        "        lp(result);\n",
        "      }\n",
        "    }\n",
        "\n",
        "    async function createDom() {\n",
        "      if (div !== null) {\n",
        "        return stream;\n",
        "      }\n",
        "\n",
        "      div = document.createElement('div');\n",
        "      div.style.border = '2px solid black';\n",
        "      div.style.padding = '3px';\n",
        "      div.style.width = '100%';\n",
        "      div.style.maxWidth = '600px';\n",
        "      document.body.appendChild(div);\n",
        "\n",
        "      const modelOut = document.createElement('div');\n",
        "      modelOut.innerHTML = \"<span>Status:</span>\";\n",
        "      labelElement = document.createElement('span');\n",
        "      labelElement.innerText = 'No data';\n",
        "      labelElement.style.fontWeight = 'bold';\n",
        "      modelOut.appendChild(labelElement);\n",
        "      div.appendChild(modelOut);\n",
        "\n",
        "      video = document.createElement('video');\n",
        "      video.style.display = 'block';\n",
        "      video.width = div.clientWidth - 6;\n",
        "      video.setAttribute('playsinline', '');\n",
        "      video.onclick = () => { shutdown = true; };\n",
        "      stream = await navigator.mediaDevices.getUserMedia(\n",
        "          {video: { facingMode: \"environment\"}});\n",
        "      div.appendChild(video);\n",
        "\n",
        "      imgElement = document.createElement('img');\n",
        "      imgElement.style.position = 'absolute';\n",
        "      imgElement.style.zIndex = 1;\n",
        "      imgElement.onclick = () => { shutdown = true; };\n",
        "      div.appendChild(imgElement);\n",
        "\n",
        "      const instruction = document.createElement('div');\n",
        "      instruction.innerHTML =\n",
        "          '<span style=\"color: red; font-weight: bold;\">' +\n",
        "          'When finished, click here or on the video to stop this demo</span>';\n",
        "      div.appendChild(instruction);\n",
        "      instruction.onclick = () => { shutdown = true; };\n",
        "\n",
        "      video.srcObject = stream;\n",
        "      await video.play();\n",
        "\n",
        "      captureCanvas = document.createElement('canvas');\n",
        "      captureCanvas.width = 800; //video.videoWidth;\n",
        "      captureCanvas.height = 600; //video.videoHeight;\n",
        "      window.requestAnimationFrame(onAnimationFrame);\n",
        "\n",
        "      return stream;\n",
        "    }\n",
        "    async function stream_frame(label, imgData) {\n",
        "      if (shutdown) {\n",
        "        removeDom();\n",
        "        shutdown = false;\n",
        "        return '';\n",
        "      }\n",
        "\n",
        "      var preCreate = Date.now();\n",
        "      stream = await createDom();\n",
        "\n",
        "      var preShow = Date.now();\n",
        "      if (label != \"\") {\n",
        "        labelElement.innerHTML = label;\n",
        "      }\n",
        "\n",
        "      if (imgData != \"\") {\n",
        "        var videoRect = video.getClientRects()[0];\n",
        "        imgElement.style.top = videoRect.top + \"px\";\n",
        "        imgElement.style.left = videoRect.left + \"px\";\n",
        "        imgElement.style.width = videoRect.width + \"px\";\n",
        "        imgElement.style.height = videoRect.height + \"px\";\n",
        "        imgElement.src = imgData;\n",
        "      }\n",
        "\n",
        "      var preCapture = Date.now();\n",
        "      var result = await new Promise(function(resolve, reject) {\n",
        "        pendingResolve = resolve;\n",
        "      });\n",
        "      shutdown = false;\n",
        "\n",
        "      return {'create': preShow - preCreate,\n",
        "              'show': preCapture - preShow,\n",
        "              'capture': Date.now() - preCapture,\n",
        "              'img': result};\n",
        "    }\n",
        "    ''')\n",
        "\n",
        "  display(js)"
      ],
      "metadata": {
        "id": "i7FLyKFlgiHq"
      },
      "execution_count": null,
      "outputs": []
    },
    {
      "cell_type": "code",
      "source": [
        "# JavaScript code to stop the webcam stream\n",
        "js_stop_stream = \"\"\"\n",
        "    const stream = video.srcObject;\n",
        "    const tracks = stream.getTracks();\n",
        "\n",
        "    tracks.forEach(function(track) {\n",
        "        track.stop();\n",
        "    });\n",
        "\n",
        "    video.srcObject = null;\n",
        "    div.style.display = 'none';  // Hide the container\n",
        "\"\"\"\n",
        "\n",
        "# Function to stop the video streaming\n",
        "def stop_video_stream():\n",
        "    display(Javascript(js_stop_stream))"
      ],
      "metadata": {
        "id": "LLgCd61kmOzT"
      },
      "execution_count": null,
      "outputs": []
    },
    {
      "cell_type": "markdown",
      "source": [
        "# Register Faces"
      ],
      "metadata": {
        "id": "sk_PFAVwLMyY"
      }
    },
    {
      "cell_type": "code",
      "source": [
        "# Create a text input widget for the name\n",
        "name_input = widgets.Text(\n",
        "    placeholder='Enter your name',\n",
        "    description='Name:',\n",
        "    disabled=False\n",
        ")\n",
        "\n",
        "# Create a file upload widget\n",
        "upload_button = widgets.FileUpload(\n",
        "    accept='image/*',\n",
        "    multiple=False,\n",
        "    description='Upload Image'\n",
        ")\n",
        "\n",
        "or_text = widgets.HTML(\n",
        "    value=\" or \"\n",
        ")\n",
        "\n",
        "# Create a button to trigger face registration\n",
        "register_button = widgets.Button(description='Register Face')\n",
        "\n",
        "# Create a button to trigger image capture\n",
        "capture_button = widgets.Button(description='Capture Image')\n",
        "\n",
        "# Create an output widget to display the uploaded or captured face image\n",
        "output = widgets.Output()\n",
        "\n",
        "# Initialize variables to store the uploaded image and name\n",
        "uploaded_image_data = None\n",
        "registered_name = None\n",
        "\n",
        "# Define a function to handle image upload\n",
        "def handle_upload(change):\n",
        "    global uploaded_image_data\n",
        "    uploaded_filename = list(upload_button.value.keys())[0]\n",
        "    uploaded_image_data = upload_button.value[uploaded_filename]['content']\n",
        "\n",
        "    with output:\n",
        "        clear_output()\n",
        "        display(widgets.Image(value=uploaded_image_data))\n",
        "\n",
        "    # Assuming uploaded_image_data is binary image data in bytes\n",
        "    image_array = np.frombuffer(uploaded_image_data, np.uint8)\n",
        "    image = cv2.imdecode(image_array, cv2.IMREAD_COLOR)\n",
        "\n",
        "    # Convert the image to RGB format\n",
        "    uploaded_image_data = cv2.cvtColor(image, cv2.COLOR_BGR2RGB)\n",
        "\n",
        "def handle_capture(button):\n",
        "  global uploaded_image_data\n",
        "  # start streaming video from webcam\n",
        "  video_stream()\n",
        "  js_reply = video_frame(\"Capturing...\", \"\")\n",
        "\n",
        "  stop_video_stream()  # Stop the video stream after capturing the frame\n",
        "\n",
        "  if not js_reply:\n",
        "    with output:\n",
        "      clear_output()\n",
        "      print(\"Error capturing image!\")\n",
        "\n",
        "  # convert JS response to OpenCV Image\n",
        "  uploaded_image_data = js_to_image(js_reply[\"img\"])\n",
        "\n",
        "  with output:\n",
        "    clear_output()\n",
        "    # Encode the captured frame as PNG\n",
        "    _, buffer = cv2.imencode('.png', uploaded_image_data)\n",
        "\n",
        "    # Convert the encoded image to bytes\n",
        "    image_bytes = buffer.tobytes()\n",
        "    display(widgets.Image(value=image_bytes))\n",
        "\n",
        "# Define a function to handle face registration\n",
        "def handle_register(button):\n",
        "    global registered_name\n",
        "\n",
        "    if uploaded_image_data is not None:\n",
        "        registered_name = name_input.value\n",
        "\n",
        "        # Detect faces in the frame\n",
        "        face_locations = face_recognition.face_locations(uploaded_image_data)\n",
        "\n",
        "        # If there is no face, raise a popup window\n",
        "        if len(face_locations) == 0:\n",
        "            with output:\n",
        "              clear_output()\n",
        "              print(\"No face detected in the image!\")\n",
        "              return\n",
        "\n",
        "        # If there is more than one face, raise a popup window\n",
        "        if len(face_locations) > 1:\n",
        "            with output:\n",
        "              clear_output()\n",
        "              print(\"More than one face detected in the image!\")\n",
        "              return\n",
        "\n",
        "        # Get the face encodings\n",
        "        face_encodings = face_recognition.face_encodings(uploaded_image_data)\n",
        "\n",
        "        # Check if the face is registered\n",
        "        if check_if_face_registered(face_encodings[0]):\n",
        "            with output:\n",
        "              clear_output()\n",
        "              print(\"Face already registered!\")\n",
        "              return\n",
        "\n",
        "        with output:\n",
        "            clear_output()\n",
        "            print(f\"Face registered for {registered_name}\")\n",
        "            registered_faces[registered_name] = face_encodings[0]\n",
        "            #Crear instancia de Profesor corregir segun ejemplo ahora con nuevo nombre de funcion cambiarlo y guardarlo en el archivo\n",
        "            #create_professor(registered_name)\n",
        "\n",
        "upload_button.observe(handle_upload, names='value')\n",
        "capture_button.on_click(handle_capture)\n",
        "register_button.on_click(handle_register)\n",
        "\n",
        "# Create a container for the widgets\n",
        "container = widgets.VBox([name_input, widgets.HBox([upload_button, or_text, capture_button]), register_button, output])\n",
        "\n",
        "# Display the container\n",
        "display(container)\n",
        "print(registered_faces)\n"
      ],
      "metadata": {
        "id": "jdAFwtj0V_dD",
        "colab": {
          "base_uri": "https://localhost:8080/",
          "height": 150,
          "referenced_widgets": [
            "3cf407d0dd624db68c02231bb7ef606d",
            "1634d025284243d7bb0d1379237ec7af",
            "a99bb61e34954c30b45a95a966fa738e",
            "c18b54310212443188139fc3fa734cb3",
            "0c84407fc8aa42f2a39daf3158d9c795",
            "b6686674b0cd4865b79ab7c116b6de4e",
            "e3c12804991f40aa9b478b42de4af6b6",
            "8ed863a527bc419dacc51eea99dc9682",
            "e430a73ec97b412ca04c10f166af1061",
            "1cf5428daa234124b06ed171f77ec416",
            "9269ab32c9214f619d596055114f7190",
            "d58103538980467692c36f0da25a4caa",
            "dc95ddae86e045e9913dca77581f439d",
            "1933a69028d54a2bb9f02ac35eba513c",
            "018313f1659845bab047ac77e38489e5",
            "cccab43307174e859bcd301e85d0fa06",
            "c7ad421802514087a860191ae56826ff",
            "0e65853a88f1421db7c5b144ab1339be",
            "52b08cdd270c46369317bea10dc3db03",
            "c96013ccac6e4ce09e9f096b38559b45",
            "6a4b50d6866c4b0fb67c931b9c8d7d07",
            "e903a2797f924cef83662e687b77d6ba",
            "7c09c8d7f1714a3b8a0340f3d5bdffcf"
          ]
        },
        "outputId": "881b5384-1bea-4ee4-b356-340d8a9b4f74"
      },
      "execution_count": null,
      "outputs": [
        {
          "output_type": "display_data",
          "data": {
            "text/plain": [
              "VBox(children=(Text(value='', description='Name:', placeholder='Enter your name'), HBox(children=(FileUpload(v…"
            ],
            "application/vnd.jupyter.widget-view+json": {
              "version_major": 2,
              "version_minor": 0,
              "model_id": "3cf407d0dd624db68c02231bb7ef606d"
            }
          },
          "metadata": {}
        },
        {
          "output_type": "stream",
          "name": "stdout",
          "text": [
            "{}\n"
          ]
        }
      ]
    },
    {
      "cell_type": "code",
      "source": [
        "print(registered_name)"
      ],
      "metadata": {
        "colab": {
          "base_uri": "https://localhost:8080/"
        },
        "id": "uqkksFH0MpvR",
        "outputId": "907e7bb4-198b-4d13-d146-e5dbbdc9f4b0"
      },
      "execution_count": null,
      "outputs": [
        {
          "output_type": "stream",
          "name": "stdout",
          "text": [
            "Tony\n"
          ]
        }
      ]
    },
    {
      "cell_type": "code",
      "source": [
        "print(registered_faces)"
      ],
      "metadata": {
        "id": "UO34VjI7zdUP"
      },
      "execution_count": null,
      "outputs": []
    },
    {
      "cell_type": "code",
      "source": [
        "for person in registered_faces:\n",
        "  print(type(person),\" : \", person)"
      ],
      "metadata": {
        "colab": {
          "base_uri": "https://localhost:8080/"
        },
        "id": "mXvzOjKZvL0y",
        "outputId": "10dbe40c-f00a-4c29-cf27-8e9a699ea8d0"
      },
      "execution_count": null,
      "outputs": [
        {
          "output_type": "stream",
          "name": "stdout",
          "text": [
            "<class 'str'>  :  Tony\n"
          ]
        }
      ]
    },
    {
      "cell_type": "code",
      "source": [
        "registered_persons = [][][]"
      ],
      "metadata": {
        "id": "XrHbm2401x-6"
      },
      "execution_count": null,
      "outputs": []
    },
    {
      "cell_type": "code",
      "source": [
        "print(\"Additional information about\", registered_name)\n",
        "print(\"\")\n",
        "id = input(\"Enter the identification: \")\n",
        "print(\"\")\n",
        "birth_date = input(\"Birthdate: \")\n",
        "print(\"\")\n",
        "person = {'name': registered_name, 'birth_date': birth_date}\n",
        "registered_persons.append(person)"
      ],
      "metadata": {
        "id": "SMiW_e401rzG"
      },
      "execution_count": null,
      "outputs": []
    },
    {
      "cell_type": "code",
      "source": [
        "for person in registered_persons:\n",
        "  print(type(person))"
      ],
      "metadata": {
        "colab": {
          "base_uri": "https://localhost:8080/"
        },
        "id": "LvDZALnc49NK",
        "outputId": "09cbf88c-9dcb-49e0-c033-2f902fd90b52"
      },
      "execution_count": null,
      "outputs": [
        {
          "output_type": "stream",
          "name": "stdout",
          "text": [
            "<class 'dict'>\n"
          ]
        }
      ]
    },
    {
      "cell_type": "markdown",
      "source": [
        "# Recognize Faces"
      ],
      "metadata": {
        "id": "7CmIqv7_LPh_"
      }
    },
    {
      "cell_type": "code",
      "source": [
        "# start streaming video from webcam\n",
        "video_stream()\n",
        "# label for video\n",
        "label_html = 'Capturing...'\n",
        "bbox = ''\n",
        "\n",
        "while True:\n",
        "  js_reply = video_frame(label_html, bbox)\n",
        "  if not js_reply:\n",
        "    break\n",
        "\n",
        "  # convert JS response to OpenCV Image\n",
        "  frame = js_to_image(js_reply[\"img\"])\n",
        "\n",
        "  # Get the face locations from the frame\n",
        "  face_locations = face_recognition.face_locations(frame)\n",
        "\n",
        "  # For each face in the frame\n",
        "  for (top, right, bottom, left) in face_locations:\n",
        "      # Draw a rectangle around the face\n",
        "      cv2.rectangle(\n",
        "          frame,\n",
        "          (left, top),\n",
        "          (right, bottom),\n",
        "          (0, 0, 255),\n",
        "          2,\n",
        "      )\n",
        "      # Get the face encoding of the face\n",
        "      face_encoding = face_recognition.face_encodings(frame, [(top, right, bottom, left)])[0]\n",
        "\n",
        "      # Compare the face encoding to the faces in the database\n",
        "      matches = face_recognition.compare_faces(list(registered_faces.values()), face_encoding)\n",
        "\n",
        "      # If there is a match\n",
        "      if True in matches:\n",
        "          # Get the index of the match\n",
        "          match_index = matches.index(True)\n",
        "\n",
        "          # Get the name of the match\n",
        "          match_name = list(registered_faces.keys())[match_index]\n",
        "\n",
        "          # Draw the name of the match on the frame\n",
        "          cv2.putText(\n",
        "              frame,\n",
        "              match_name,\n",
        "              (left, top - 10),\n",
        "              cv2.FONT_HERSHEY_SIMPLEX,\n",
        "              1,\n",
        "              (0, 0, 255),\n",
        "              2,\n",
        "              cv2.LINE_AA,\n",
        "          )\n",
        "          read_file_name(match_name)\n",
        "      else:\n",
        "          # Draw unknown on the frame\n",
        "          cv2.putText(\n",
        "              frame,\n",
        "              \"Unknown\",\n",
        "              (left, top - 10),\n",
        "              cv2.FONT_HERSHEY_SIMPLEX,\n",
        "              1,\n",
        "              (0, 0, 255),\n",
        "              2,\n",
        "              cv2.LINE_AA,\n",
        "          )\n",
        "\n",
        "  # Show image\n",
        "  plt.imshow(frame)\n",
        "  plt.show()"
      ],
      "metadata": {
        "id": "BoUJ5NoDWwT_"
      },
      "execution_count": null,
      "outputs": []
    },
    {
      "cell_type": "markdown",
      "source": [
        "# Clases\n"
      ],
      "metadata": {
        "id": "87K1CMS5JLY-"
      }
    },
    {
      "cell_type": "markdown",
      "source": [
        "## Add professor"
      ],
      "metadata": {
        "id": "MBS17W02MZ56"
      }
    },
    {
      "cell_type": "code",
      "source": [
        "class Profesor:\n",
        "    def __init__(self, identification, name, birthday, nationality,phone_numbers, emails, address, speciality,years_in_institution,vehicle_license_plate):\n",
        "        self.identification = identification\n",
        "        self.name = name\n",
        "        self.birthday = birthday\n",
        "        self.nationality = nationality\n",
        "        self.phone_numbers = phone_numbers  # diccionario\n",
        "        self.emails = emails  # una lista\n",
        "        self.address = address\n",
        "        self.speciality = speciality\n",
        "        self.years_in_institution = years_in_institution\n",
        "        self.vehicle_license_plate = vehicle_license_plate\n",
        "\n",
        "    @classmethod\n",
        "    def professor_info(cls):\n",
        "        indentification = input(\"Enter the id professor: \")\n",
        "        name = input(\"Enter professor's name (nombre para face_recognition): \")\n",
        "        birthday = input(\"Enter professor's birthday: \")\n",
        "        nacionality = input(\"Enter professor's nationality: \")\n",
        "\n",
        "        phone_numbers = {}\n",
        "        phone_numbers['telephone'] = input(\"Enter professor's telephone numbers: \")\n",
        "        phone_numbers['cellphone'] = input(\"Enter professor's cellphone numbers: \")\n",
        "\n",
        "        emails = input(\"Email(s) professor (separados por coma): \").split(',')\n",
        "\n",
        "        address = input(\"Enter professor's addres: \")\n",
        "        speciality = input(\"Enter professor's speciality: \")\n",
        "\n",
        "        years_in_institution = input(\"Enter the number of years in the institution: \")\n",
        "        vehicle_license_plate = input(\"Enter the vehicle license plate or 'n/a' if the professor does not have a vehicle: \")\n",
        "\n",
        "        return cls(indentification, name, birthday, nacionality, phone_numbers,emails, address,speciality, years_in_institution, vehicle_license_plate)\n"
      ],
      "metadata": {
        "id": "mou75JF6KIgn"
      },
      "execution_count": null,
      "outputs": []
    },
    {
      "cell_type": "code",
      "source": [
        "\n",
        "def add_professors(archivo):\n",
        "    profesores = []\n",
        "\n",
        "    try:\n",
        "        with open(archivo, 'rb') as f:\n",
        "            profesores = pickle.load(f)\n",
        "    except FileNotFoundError:\n",
        "        pass\n",
        "\n",
        "    while True:\n",
        "        new_profesor = Profesor.professor_info()\n",
        "        profesores.append({\n",
        "            'identification': new_profesor.identification,\n",
        "            'name': new_profesor.name,\n",
        "            'birthday': new_profesor.birthday,\n",
        "            'nationality': new_profesor.nationality,\n",
        "            'phone_numbers': new_profesor.phone_numbers,\n",
        "            'emails': new_profesor.emails,\n",
        "            'address': new_profesor.address,\n",
        "            'speciality': new_profesor.speciality,\n",
        "            'years_in_institution': new_profesor.years_in_institution,\n",
        "            'vehicle_license_plate': new_profesor.vehicle_license_plate\n",
        "        })\n",
        "\n",
        "        with open(archivo, 'wb') as f:\n",
        "            pickle.dump(profesores, f)\n",
        "\n",
        "        continuar = input(\"¿Desea ingresar más profesores? (y/n): \").strip().lower()\n",
        "        if continuar != 'y':\n",
        "            break\n",
        "\n",
        "# Uso de la función add_professors para agregar profesores y detener cuando el usuario lo indique\n",
        "add_professors('profesores.pkl')"
      ],
      "metadata": {
        "id": "IDTtCmXBFDVg"
      },
      "execution_count": null,
      "outputs": []
    },
    {
      "cell_type": "markdown",
      "source": [
        "## Add Student"
      ],
      "metadata": {
        "id": "IRjv2ClFN4YR"
      }
    },
    {
      "cell_type": "code",
      "source": [
        "class Student:\n",
        "    def __init__(self, identification, name, birthday, nationality,phone_numbers, emails, address,degree,scholarchip,transport):\n",
        "        self.identification = identification\n",
        "        self.name = name\n",
        "        self.birthday = birthday\n",
        "        self.nationality = nationality\n",
        "        self.phone_numbers = phone_numbers  # diccionario\n",
        "        self.emails = emails  # una lista\n",
        "        self.address = address\n",
        "        self.degree = degree\n",
        "        self.scholarchip = scholarchip\n",
        "        self.transport = transport\n",
        "\n",
        "\n",
        "    @classmethod\n",
        "    def student_info(cls):\n",
        "        indentification = input(\"Enter the id student: \")\n",
        "        name = input(\"Enter student's name (nombre para face_recognition): \")\n",
        "        birthday = input(\"Enter student's birthday: \")\n",
        "        nacionality = input(\"Enter student's nationality: \")\n",
        "\n",
        "        phone_numbers = {}\n",
        "        phone_numbers['telephone'] = input(\"Enter student's telephone numbers: \")\n",
        "        phone_numbers['cellphone'] = input(\"Enter student's cellphone numbers: \")\n",
        "\n",
        "        emails = input(\"Email(s) professor (separados por coma): \").split(',')\n",
        "\n",
        "        address = input(\"Enter student's addres: \")\n",
        "        speciality = input(\"Enter student's speciality: \")\n",
        "\n",
        "        scholarchip = input(\"Enter the type of scholarchip, if no have put 0: \")\n",
        "        transport = input(\"Enter the type of transport: \")\n",
        "\n",
        "        return cls(indentification, name, birthday, nacionality, phone_numbers,emails, address,speciality, scholarchip,transport)"
      ],
      "metadata": {
        "id": "x_wyLhXeOOzH"
      },
      "execution_count": null,
      "outputs": []
    },
    {
      "cell_type": "code",
      "source": [
        "def add_student(archivo):\n",
        "    students = []\n",
        "\n",
        "    try:\n",
        "        with open(archivo, 'rb') as f:\n",
        "            students = pickle.load(f)\n",
        "    except FileNotFoundError:\n",
        "        pass\n",
        "\n",
        "    while True:\n",
        "        new_student = Student.student_info()\n",
        "        students.append({\n",
        "            'identification': new_student.identification,\n",
        "            'name': new_student.name,\n",
        "            'birthday': new_student.birthday,\n",
        "            'nationality': new_student.nationality,\n",
        "            'phone_numbers': new_student.phone_numbers,\n",
        "            'emails': new_student.emails,\n",
        "            'address': new_student.address,\n",
        "            'degree': new_student.degree,\n",
        "            'scholarchip': new_student.scholarchip,\n",
        "            'transport': new_student.transport\n",
        "        })\n",
        "\n",
        "        with open(archivo, 'wb') as f:\n",
        "            pickle.dump(students, f)\n",
        "\n",
        "        continuar = input(\"¿Do yoi want to add new student? (y/n): \").strip().lower()\n",
        "        if continuar != 'y':\n",
        "            break\n",
        "\n",
        "# Uso de la función add_student para agregar  y detener\n",
        "add_student('students.pkl')"
      ],
      "metadata": {
        "id": "iqTmBQPbOOY4"
      },
      "execution_count": null,
      "outputs": []
    },
    {
      "cell_type": "markdown",
      "source": [
        "## Add Miscelaneous"
      ],
      "metadata": {
        "id": "uc0q_8XvN6am"
      }
    },
    {
      "cell_type": "code",
      "source": [
        "class Miscelaneous:\n",
        "    def __init__(self, identification, name, birthday, nationality,phone_numbers, emails, address,shift,gross_salary,work_sector):\n",
        "        self.identification = identification\n",
        "        self.name = name\n",
        "        self.birthday = birthday\n",
        "        self.nationality = nationality\n",
        "        self.phone_numbers = phone_numbers  # diccionario\n",
        "        self.emails = emails  # una lista\n",
        "        self.address = address\n",
        "        self.shift = shift\n",
        "        self.gross_salary = gross_salary\n",
        "        self.work_sector = work_sector\n",
        "\n",
        "\n",
        "\n",
        "\n",
        "    @classmethod\n",
        "    def miscelaneous_info(cls):\n",
        "        indentification = input(\"Enter the id miscelaneous: \")\n",
        "        name = input(\"Enter miscelaneous's name: \")\n",
        "        birthday = input(\"Enter miscelaneous's birthday: \")\n",
        "        nacionality = input(\"Enter miscelaneous's nationality: \")\n",
        "\n",
        "        phone_numbers = {}\n",
        "        phone_numbers['telephone'] = input(\"Enter miscelaneous's telephone numbers: \")\n",
        "        phone_numbers['cellphone'] = input(\"Enter miscelaneous's cellphone numbers: \")\n",
        "\n",
        "        emails = input(\"Email(s) miscelaneous (separados por coma): \").split(',')\n",
        "\n",
        "        address = input(\"Enter miscelaneous's addres: \")\n",
        "        shift = input(\"Enter miscelaneous's shift: \")\n",
        "\n",
        "        gross_salary= input(\"Enter the gross_salary: \")\n",
        "        work_sector = input(\"Enter the work_sector for example (A1-A9): \")\n",
        "\n",
        "        return cls(indentification, name, birthday, nacionality, phone_numbers,emails, address,shift , gross_salary, work_sector)"
      ],
      "metadata": {
        "id": "0HZm3Q9_SByO"
      },
      "execution_count": null,
      "outputs": []
    },
    {
      "cell_type": "code",
      "source": [
        "def add_miscelaneous(archivo):\n",
        "    miscelanies = []\n",
        "\n",
        "    try:\n",
        "        with open(archivo, 'rb') as f:\n",
        "            miscelanies = pickle.load(f)\n",
        "    except FileNotFoundError:\n",
        "        pass\n",
        "\n",
        "    while True:\n",
        "        new_miscelaneous = Miscelaneous.miscelaneous_info()\n",
        "        miscelanies.append({\n",
        "            'identification': new_miscelaneous.identification,\n",
        "            'name': new_miscelaneous.name,\n",
        "            'birthday': new_miscelaneous.birthday,\n",
        "            'nationality': new_miscelaneous.nationality,\n",
        "            'phone_numbers': new_miscelaneous.phone_numbers,\n",
        "            'emails': new_miscelaneous.emails,\n",
        "            'address': new_miscelaneous.address,\n",
        "            'shift': new_miscelaneous.shift,\n",
        "            'gross_salary': new_miscelaneous.gross_salary,\n",
        "            'work_sector': new_miscelaneous.work_sector\n",
        "        })\n",
        "\n",
        "        with open(archivo, 'wb') as f:\n",
        "            pickle.dump(miscelanies, f)\n",
        "\n",
        "        continuar = input(\"¿Do you want to add new miscelaneous? (y/n): \").strip().lower()\n",
        "        if continuar != 'y':\n",
        "            break\n",
        "\n",
        "# Uso de la función add_miscelaneous para agregar y detener cuando el usuario lo indique\n",
        "add_miscelaneous('miscelanies.pkl')"
      ],
      "metadata": {
        "id": "UHQ84TEoSBkA"
      },
      "execution_count": null,
      "outputs": []
    },
    {
      "cell_type": "markdown",
      "source": [
        "## Add Classroom"
      ],
      "metadata": {
        "id": "ro2NzGK1OEo-"
      }
    },
    {
      "cell_type": "markdown",
      "source": [
        "## Add course"
      ],
      "metadata": {
        "id": "ze8tn_1kOIdd"
      }
    },
    {
      "cell_type": "markdown",
      "source": [
        "# Read file"
      ],
      "metadata": {
        "id": "2Se9y9PNL0qg"
      }
    },
    {
      "cell_type": "code",
      "source": [
        "def read_file():\n",
        "    f = open(\"personas.bin\", \"rb\")\n",
        "    f.seek(0)\n",
        "    flag = 0\n",
        "    while flag ==0:\n",
        "        try:\n",
        "            e = pickle.load(f)\n",
        "            print(e.name)\n",
        "        except:\n",
        "            print(\"Fin\")\n",
        "            flag = 1\n",
        "    f.close"
      ],
      "metadata": {
        "id": "UIAFOaYYL4Il"
      },
      "execution_count": null,
      "outputs": []
    },
    {
      "cell_type": "code",
      "source": [
        "read_file()"
      ],
      "metadata": {
        "colab": {
          "base_uri": "https://localhost:8080/"
        },
        "id": "rR0HZm7WL6PC",
        "outputId": "db777dba-4817-4580-b21e-6abfeb12d878"
      },
      "execution_count": null,
      "outputs": [
        {
          "output_type": "stream",
          "name": "stdout",
          "text": [
            "Abel\n",
            "Fin\n"
          ]
        }
      ]
    },
    {
      "cell_type": "code",
      "source": [
        "def read_file_name(name):\n",
        "    f = open(\"personas.bin\", \"rb\")\n",
        "    f.seek(0)\n",
        "    flag = 0\n",
        "    while flag ==0:\n",
        "        try:\n",
        "            e = pickle.load(f)\n",
        "            if e.name == name:\n",
        "              print(\"Encontrado\", e.name)\n",
        "        except:\n",
        "            print(\"Fin\")\n",
        "            flag = 1\n",
        "    f.close"
      ],
      "metadata": {
        "id": "wRQ3SAvoQHjT"
      },
      "execution_count": null,
      "outputs": []
    }
  ]
}